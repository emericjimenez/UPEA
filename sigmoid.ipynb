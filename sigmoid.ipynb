{
 "cells": [
  {
   "cell_type": "code",
   "execution_count": null,
   "id": "4587efaf",
   "metadata": {},
   "outputs": [],
   "source": [
    "import numpy as np\n",
    "def sigmoid(z): \n",
    "    # calculate the sigmoid of z\n",
    "    r = 1/(1+np.exp(-z))\n",
    "    return r\n",
    "# Test\n",
    "if (sigmoid(0) == 0.5):\n",
    "    print('OK!')\n",
    "else:\n",
    "    print('Nop!')\n",
    "\n",
    "if (sigmoid(5.05) == 0.9936314844931844):\n",
    "    print('RIGHT!')\n",
    "else:\n",
    "    print('Nop again!')"
   ]
  }
 ],
 "metadata": {
  "kernelspec": {
   "display_name": "Python 3 (ipykernel)",
   "language": "python",
   "name": "python3"
  },
  "language_info": {
   "codemirror_mode": {
    "name": "ipython",
    "version": 3
   },
   "file_extension": ".py",
   "mimetype": "text/x-python",
   "name": "python",
   "nbconvert_exporter": "python",
   "pygments_lexer": "ipython3",
   "version": "3.9.12"
  }
 },
 "nbformat": 4,
 "nbformat_minor": 5
}
