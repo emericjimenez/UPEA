{
 "cells": [
  {
   "cell_type": "code",
   "execution_count": 1,
   "id": "6d164cea",
   "metadata": {},
   "outputs": [],
   "source": [
    "#Sample difference in Loop and Vectorization, linear algebra applied with numpy\n",
    "import numpy as np\n",
    "import time"
   ]
  },
  {
   "cell_type": "code",
   "execution_count": 5,
   "id": "6a80fae4",
   "metadata": {},
   "outputs": [
    {
     "name": "stdout",
     "output_type": "stream",
     "text": [
      "250091.3793512232\n",
      "Time Vectorized: 0.9987354278564453 ms\n",
      "250091.37935122216\n",
      "Time For Loop:362.0593547821045 ms\n"
     ]
    }
   ],
   "source": [
    "pv_1 = np.random.rand(1000000)\n",
    "pv_2 = np.random.rand(1000000)\n",
    "\n",
    "time_1 = time.time()\n",
    "pv_3 = np.dot(pv_1,pv_2)\n",
    "time_2 = time.time()\n",
    "\n",
    "print (pv_3)\n",
    "print (\"Time Vectorized: \" + str(1000*(time_2-time_1))+\" ms\")\n",
    "\n",
    "pv_3=0\n",
    "time_1 = time.time()\n",
    "\n",
    "for i in range(1000000):\n",
    "    pv_3 += pv_1[i]*pv_2[i]\n",
    "time_2 = time.time()\n",
    "\n",
    "print (pv_3)\n",
    "print(\"Time For Loop:\" + str(1000*(time_2-time_1))+\" ms\")\n"
   ]
  },
  {
   "cell_type": "code",
   "execution_count": null,
   "id": "4a7d96b0",
   "metadata": {},
   "outputs": [],
   "source": []
  }
 ],
 "metadata": {
  "kernelspec": {
   "display_name": "Python 3 (ipykernel)",
   "language": "python",
   "name": "python3"
  },
  "language_info": {
   "codemirror_mode": {
    "name": "ipython",
    "version": 3
   },
   "file_extension": ".py",
   "mimetype": "text/x-python",
   "name": "python",
   "nbconvert_exporter": "python",
   "pygments_lexer": "ipython3",
   "version": "3.9.12"
  }
 },
 "nbformat": 4,
 "nbformat_minor": 5
}
